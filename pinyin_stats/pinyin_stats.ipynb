{
 "cells": [
  {
   "cell_type": "markdown",
   "metadata": {},
   "source": [
    "前几天发现，电脑上字母N磨损的很严重，于是有个想法，是不是中文字符里面字母N出现的频率非常高？可以通过数据验证一下，语料就取我自己之前写的公众号文章，本身就是随机的，而且文字数量应该也足够了"
   ]
  },
  {
   "cell_type": "code",
   "execution_count": 73,
   "metadata": {},
   "outputs": [],
   "source": [
    "from pypinyin import pinyin, lazy_pinyin, Style\n",
    "from collections import Counter\n",
    "import string\n",
    "from pprint import pprint"
   ]
  },
  {
   "cell_type": "markdown",
   "metadata": {},
   "source": [
    "# 读取语料库"
   ]
  },
  {
   "cell_type": "code",
   "execution_count": 77,
   "metadata": {},
   "outputs": [
    {
     "data": {
      "text/plain": [
       "4334"
      ]
     },
     "execution_count": 77,
     "metadata": {},
     "output_type": "execute_result"
    }
   ],
   "source": [
    "with open('words.txt') as f:\n",
    "    s = f.read()\n",
    "\n",
    "# 去除换行符\n",
    "\n",
    "s = s.replace('\\n','')\n",
    "\n",
    "len(s)"
   ]
  },
  {
   "cell_type": "markdown",
   "metadata": {},
   "source": [
    "# 中文转拼音，字母统计"
   ]
  },
  {
   "cell_type": "code",
   "execution_count": 72,
   "metadata": {},
   "outputs": [],
   "source": [
    "def print_char_stats(s):\n",
    "    chars = ''.join(lazy_pinyin(s))\n",
    "    c = Counter(chars)\n",
    "    # 过滤掉非小写字母\n",
    "    d = [(k,v) for k,v in c.items() if k in string.ascii_lowercase]\n",
    "\n",
    "    # 计算所有字母出现掉总次数\n",
    "    _s = sum([i[1] for i in d])\n",
    "\n",
    "    # 添加每个字母出现掉次数比例\n",
    "    e = [(k,v,round(v/_s,4)) for k,v in d]\n",
    "\n",
    "\n",
    "    res = sorted(e,key=lambda kv:kv[1],reverse=True)\n",
    "    pprint(res)\n"
   ]
  },
  {
   "cell_type": "code",
   "execution_count": 78,
   "metadata": {},
   "outputs": [
    {
     "name": "stdout",
     "output_type": "stream",
     "text": [
      "[('i', 1597, 0.1365),\n",
      " ('n', 1292, 0.1104),\n",
      " ('a', 994, 0.085),\n",
      " ('u', 981, 0.0838),\n",
      " ('e', 896, 0.0766),\n",
      " ('h', 877, 0.075),\n",
      " ('g', 867, 0.0741),\n",
      " ('o', 797, 0.0681),\n",
      " ('y', 426, 0.0364),\n",
      " ('d', 419, 0.0358),\n",
      " ('z', 383, 0.0327),\n",
      " ('s', 369, 0.0315),\n",
      " ('x', 244, 0.0209),\n",
      " ('j', 236, 0.0202),\n",
      " ('l', 206, 0.0176),\n",
      " ('b', 164, 0.014),\n",
      " ('r', 132, 0.0113),\n",
      " ('c', 132, 0.0113),\n",
      " ('w', 126, 0.0108),\n",
      " ('t', 124, 0.0106),\n",
      " ('q', 103, 0.0088),\n",
      " ('m', 97, 0.0083),\n",
      " ('p', 95, 0.0081),\n",
      " ('f', 87, 0.0074),\n",
      " ('k', 52, 0.0044),\n",
      " ('v', 5, 0.0004)]\n"
     ]
    }
   ],
   "source": [
    "print_char_stats(s)"
   ]
  },
  {
   "cell_type": "code",
   "execution_count": null,
   "metadata": {},
   "outputs": [],
   "source": []
  }
 ],
 "metadata": {
  "kernelspec": {
   "display_name": "Python 3",
   "language": "python",
   "name": "python3"
  },
  "language_info": {
   "codemirror_mode": {
    "name": "ipython",
    "version": 3
   },
   "file_extension": ".py",
   "mimetype": "text/x-python",
   "name": "python",
   "nbconvert_exporter": "python",
   "pygments_lexer": "ipython3",
   "version": "3.7.3"
  }
 },
 "nbformat": 4,
 "nbformat_minor": 4
}
