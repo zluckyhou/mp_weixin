{
 "cells": [
  {
   "cell_type": "code",
   "execution_count": 2,
   "metadata": {},
   "outputs": [],
   "source": [
    "import os\n",
    "from lxml import etree\n",
    "import lxml.html\n",
    "from selenium import webdriver\n",
    "from webdriver_manager.chrome import ChromeDriverManager\n",
    "from user_agent import generate_user_agent\n",
    "\n",
    "import requests\n",
    "from tqdm import tqdm\n",
    "import time\n",
    "import json\n",
    "import random\n",
    "\n",
    "import pandas as pd"
   ]
  },
  {
   "cell_type": "code",
   "execution_count": 3,
   "metadata": {},
   "outputs": [],
   "source": [
    "from selenium.webdriver.common.by import By\n",
    "from selenium.webdriver.support.ui import WebDriverWait\n",
    "from selenium.webdriver.support import expected_conditions as EC"
   ]
  },
  {
   "cell_type": "code",
   "execution_count": 4,
   "metadata": {},
   "outputs": [],
   "source": [
    "co = webdriver.ChromeOptions()\n",
    "# co.add_argument('--headless')  # 无界面模式\n",
    "co.add_argument('--disable-images')\n",
    "# co.add_argument('--disable-javascript') #禁用js\n",
    "# co.add_argument('--proxy-server=http://ip:port') #使用代理\n",
    "co.add_argument('--user-agent={}'.format(generate_user_agent(navigator=['chrome'])))"
   ]
  },
  {
   "cell_type": "markdown",
   "metadata": {},
   "source": [
    "# 自动安装 webdriver"
   ]
  },
  {
   "cell_type": "markdown",
   "metadata": {},
   "source": [
    "自动安装webdriver参见：https://stackoverflow.com/questions/60296873/sessionnotcreatedexception-message-session-not-created-this-version-of-chrome/62127806"
   ]
  },
  {
   "cell_type": "code",
   "execution_count": 5,
   "metadata": {},
   "outputs": [
    {
     "name": "stderr",
     "output_type": "stream",
     "text": [
      "[WDM] - ====== WebDriver manager ======\n",
      "[WDM] - Current google-chrome version is 89.0.4389\n",
      "[WDM] - Get LATEST driver version for 89.0.4389\n"
     ]
    },
    {
     "name": "stdout",
     "output_type": "stream",
     "text": [
      "\n",
      "\n"
     ]
    },
    {
     "name": "stderr",
     "output_type": "stream",
     "text": [
      "[WDM] - Driver [/Users/taptap/.wdm/drivers/chromedriver/mac64/89.0.4389.23/chromedriver] found in cache\n"
     ]
    }
   ],
   "source": [
    "browser = webdriver.Chrome(executable_path=ChromeDriverManager().install(),options=co,service_log_path=os.path.devnull)"
   ]
  },
  {
   "cell_type": "markdown",
   "metadata": {},
   "source": [
    "# 抓取租房贴"
   ]
  },
  {
   "cell_type": "markdown",
   "metadata": {},
   "source": [
    "需要登录，否则大概没几页就提示登录了"
   ]
  },
  {
   "cell_type": "code",
   "execution_count": 6,
   "metadata": {},
   "outputs": [],
   "source": [
    "url = 'https://www.douban.com/group/shanghaizufang/discussion?start=0'\n",
    "\n",
    "browser.get(url)"
   ]
  },
  {
   "cell_type": "code",
   "execution_count": 29,
   "metadata": {},
   "outputs": [],
   "source": [
    "def get_topics(url):\n",
    "    \n",
    "    browser.get(url)\n",
    "\n",
    "    html = browser.page_source\n",
    "\n",
    "    s = etree.HTML(html)\n",
    "\n",
    "    url_ls = s.xpath('//table[@class=\"olt\"]//tr[not(contains(@class,\"th\"))]//td[@class=\"title\"]/a/@href')\n",
    "\n",
    "    title_ls = s.xpath('//table[@class=\"olt\"]//tr[not(contains(@class,\"th\"))]//td[@class=\"title\"]/a/@title')\n",
    "    author_ls = s.xpath('//table[@class=\"olt\"]//tr[not(contains(@class,\"th\"))]//td[not(@class)]/a/text()')\n",
    "    author_url_ls = s.xpath('//table[@class=\"olt\"]//tr[not(contains(@class,\"th\"))]//td[not(@class)]/a/@href')\n",
    "    last_response = s.xpath('//table[@class=\"olt\"]//tr[not(contains(@class,\"th\"))]//td[@class=\"time\"]/text()')\n",
    "\n",
    "    df = pd.DataFrame({'url':url_ls,'title':title_ls,'author':author_ls,'author_url':author_url_ls,'last_response':last_response})\n",
    "    \n",
    "    return df"
   ]
  },
  {
   "cell_type": "code",
   "execution_count": 28,
   "metadata": {},
   "outputs": [],
   "source": [
    "df_ls = []"
   ]
  },
  {
   "cell_type": "code",
   "execution_count": 37,
   "metadata": {},
   "outputs": [
    {
     "name": "stderr",
     "output_type": "stream",
     "text": [
      "100%|██████████| 61/61 [02:37<00:00,  2.58s/it]\n"
     ]
    }
   ],
   "source": [
    "for idx in tqdm(range(439,500)):\n",
    "    start = idx*25\n",
    "    url = f'https://www.douban.com/group/shanghaizufang/discussion?start={start}'\n",
    "    df = get_topics(url)\n",
    "    if len(df)>0:\n",
    "        df_ls.append(df)\n",
    "        time.sleep(random.choice(range(1,4)))\n",
    "    else:\n",
    "        print(idx)\n",
    "        break"
   ]
  },
  {
   "cell_type": "code",
   "execution_count": 38,
   "metadata": {},
   "outputs": [
    {
     "data": {
      "text/plain": [
       "500"
      ]
     },
     "execution_count": 38,
     "metadata": {},
     "output_type": "execute_result"
    }
   ],
   "source": [
    "len(df_ls)"
   ]
  },
  {
   "cell_type": "code",
   "execution_count": 46,
   "metadata": {},
   "outputs": [],
   "source": [
    "df_res = pd.concat(df_ls)\n",
    "\n",
    "# 去重\n",
    "df_res.drop_duplicates(inplace=True)\n",
    "\n",
    "# 同一个帖子取最新一条回复对应的记录\n",
    "\n",
    "df_res = df_res.sort_values(['last_response'],ascending=False).groupby(['url','title','author','author_url']).first().reset_index()\n",
    "\n",
    "df_res.sort_values(['last_response'],ascending=False,inplace=True)"
   ]
  },
  {
   "cell_type": "code",
   "execution_count": 47,
   "metadata": {},
   "outputs": [
    {
     "data": {
      "text/plain": [
       "(12315, 5)"
      ]
     },
     "execution_count": 47,
     "metadata": {},
     "output_type": "execute_result"
    }
   ],
   "source": [
    "df_res.shape"
   ]
  },
  {
   "cell_type": "code",
   "execution_count": 65,
   "metadata": {},
   "outputs": [],
   "source": [
    "# 保存为json\n",
    "js = df_res.to_json(orient='records')\n",
    "\n",
    "with open('zf_topics.json','w') as f:\n",
    "    json.dump(js,f)"
   ]
  },
  {
   "cell_type": "markdown",
   "metadata": {},
   "source": [
    "# 一些数据统计"
   ]
  },
  {
   "cell_type": "markdown",
   "metadata": {},
   "source": [
    "### 1.共有6060人发帖"
   ]
  },
  {
   "cell_type": "code",
   "execution_count": 69,
   "metadata": {},
   "outputs": [
    {
     "data": {
      "text/plain": [
       "6060"
      ]
     },
     "execution_count": 69,
     "metadata": {},
     "output_type": "execute_result"
    }
   ],
   "source": [
    "df_res['author_url'].nunique()"
   ]
  },
  {
   "cell_type": "markdown",
   "metadata": {},
   "source": [
    "### 2.按发帖个数对用户进行排行，靠前的肯定是中介或者二房东"
   ]
  },
  {
   "cell_type": "code",
   "execution_count": 71,
   "metadata": {},
   "outputs": [
    {
     "data": {
      "text/plain": [
       "author_url\n",
       "https://www.douban.com/people/217366446/    69\n",
       "https://www.douban.com/people/140889977/    44\n",
       "https://www.douban.com/people/194720754/    40\n",
       "https://www.douban.com/people/234444399/    40\n",
       "https://www.douban.com/people/233813711/    38\n",
       "                                            ..\n",
       "https://www.douban.com/people/225835274/     1\n",
       "https://www.douban.com/people/225825787/     1\n",
       "https://www.douban.com/people/225824336/     1\n",
       "https://www.douban.com/people/225823797/     1\n",
       "https://www.douban.com/people/101635255/     1\n",
       "Name: url, Length: 6060, dtype: int64"
      ]
     },
     "execution_count": 71,
     "metadata": {},
     "output_type": "execute_result"
    }
   ],
   "source": [
    "df_res.groupby('author_url')['url'].nunique().sort_values(ascending=False)"
   ]
  },
  {
   "cell_type": "markdown",
   "metadata": {},
   "source": [
    "### 3.发帖大于等于3个的用户有1179人，占总用户的20%"
   ]
  },
  {
   "cell_type": "code",
   "execution_count": 76,
   "metadata": {},
   "outputs": [
    {
     "data": {
      "text/plain": [
       "1179"
      ]
     },
     "execution_count": 76,
     "metadata": {},
     "output_type": "execute_result"
    }
   ],
   "source": [
    "pv_stats = df_res.groupby('author_url')['url'].nunique().sort_values(ascending=False)\n",
    "sum(pv_stats>=3)"
   ]
  },
  {
   "cell_type": "markdown",
   "metadata": {},
   "source": [
    "### 4.这20%的用户发了6446帖子，占总数的52%"
   ]
  },
  {
   "cell_type": "code",
   "execution_count": 78,
   "metadata": {},
   "outputs": [
    {
     "name": "stdout",
     "output_type": "stream",
     "text": [
      "6446 0.5234267153877386\n"
     ]
    }
   ],
   "source": [
    "print(sum(pv_stats[pv_stats>=3]),sum(pv_stats[pv_stats>=3])/sum(pv_stats))"
   ]
  },
  {
   "cell_type": "markdown",
   "metadata": {},
   "source": [
    "---"
   ]
  },
  {
   "cell_type": "markdown",
   "metadata": {},
   "source": [
    "**20%的中介贡献了超过一半的内容，怪不得大家说现在豆瓣都被中介攻陷了**"
   ]
  },
  {
   "cell_type": "markdown",
   "metadata": {},
   "source": [
    "# 过滤一下"
   ]
  },
  {
   "cell_type": "code",
   "execution_count": 48,
   "metadata": {},
   "outputs": [],
   "source": [
    "import re"
   ]
  },
  {
   "cell_type": "code",
   "execution_count": 49,
   "metadata": {},
   "outputs": [],
   "source": [
    "flag_zhuanzu =  df_res['title'].apply(lambda x:'转' in x)\n",
    "\n",
    "flag_subway = df_res['title'].apply(lambda x:re.search('虹桥路|吴中路|漕河泾开发区|姚虹路',x))\n"
   ]
  },
  {
   "cell_type": "code",
   "execution_count": 50,
   "metadata": {},
   "outputs": [
    {
     "data": {
      "text/html": [
       "<div>\n",
       "<style scoped>\n",
       "    .dataframe tbody tr th:only-of-type {\n",
       "        vertical-align: middle;\n",
       "    }\n",
       "\n",
       "    .dataframe tbody tr th {\n",
       "        vertical-align: top;\n",
       "    }\n",
       "\n",
       "    .dataframe thead th {\n",
       "        text-align: right;\n",
       "    }\n",
       "</style>\n",
       "<table border=\"1\" class=\"dataframe\">\n",
       "  <thead>\n",
       "    <tr style=\"text-align: right;\">\n",
       "      <th></th>\n",
       "      <th>url</th>\n",
       "      <th>title</th>\n",
       "      <th>author</th>\n",
       "      <th>author_url</th>\n",
       "      <th>last_response</th>\n",
       "    </tr>\n",
       "  </thead>\n",
       "  <tbody>\n",
       "    <tr>\n",
       "      <th>7430</th>\n",
       "      <td>https://www.douban.com/group/topic/216853903/</td>\n",
       "      <td>个人转租，闵行徐汇湘府花园吴中路姚虹路宋园路</td>\n",
       "      <td>Shieh</td>\n",
       "      <td>https://www.douban.com/people/169185158/</td>\n",
       "      <td>03-24 21:35</td>\n",
       "    </tr>\n",
       "    <tr>\n",
       "      <th>11960</th>\n",
       "      <td>https://www.douban.com/group/topic/217164114/</td>\n",
       "      <td>转租2600大主卧/徐汇区/9号桂林路/15号线吴中路地铁站</td>\n",
       "      <td>随风踏云</td>\n",
       "      <td>https://www.douban.com/people/152826967/</td>\n",
       "      <td>03-24 20:34</td>\n",
       "    </tr>\n",
       "    <tr>\n",
       "      <th>2831</th>\n",
       "      <td>https://www.douban.com/group/topic/215084766/</td>\n",
       "      <td>【个人转租】9号线漕河泾开发区站虹兴苑小区  朝南大卧室只租女生</td>\n",
       "      <td>于二花</td>\n",
       "      <td>https://www.douban.com/people/140592316/</td>\n",
       "      <td>03-24 20:11</td>\n",
       "    </tr>\n",
       "    <tr>\n",
       "      <th>3948</th>\n",
       "      <td>https://www.douban.com/group/topic/215950506/</td>\n",
       "      <td>【个人转租】3、4、10号线虹桥路，仅限女生！</td>\n",
       "      <td>豆油(1)</td>\n",
       "      <td>https://www.douban.com/people/only-feel/</td>\n",
       "      <td>03-24 19:43</td>\n",
       "    </tr>\n",
       "    <tr>\n",
       "      <th>8622</th>\n",
       "      <td>https://www.douban.com/group/topic/216932044/</td>\n",
       "      <td>个人转租万源新城 9号线合川路、漕河泾开发区近字节跳动</td>\n",
       "      <td>Stella🌟</td>\n",
       "      <td>https://www.douban.com/people/221649503/</td>\n",
       "      <td>03-24 09:30</td>\n",
       "    </tr>\n",
       "    <tr>\n",
       "      <th>1953</th>\n",
       "      <td>https://www.douban.com/group/topic/213904892/</td>\n",
       "      <td>9号线 桂林路地铁站 15号线 吴中路地铁站 田林 桂林苑 钦州北路888弄 次卧【转租】</td>\n",
       "      <td>江湖骗子</td>\n",
       "      <td>https://www.douban.com/people/146119171/</td>\n",
       "      <td>03-23 19:53</td>\n",
       "    </tr>\n",
       "    <tr>\n",
       "      <th>4592</th>\n",
       "      <td>https://www.douban.com/group/topic/216255954/</td>\n",
       "      <td>转租合川路地铁站附近近字节，漕河泾开发区可短租4个月</td>\n",
       "      <td>blowww~</td>\n",
       "      <td>https://www.douban.com/people/225348940/</td>\n",
       "      <td>03-23 19:49</td>\n",
       "    </tr>\n",
       "    <tr>\n",
       "      <th>5535</th>\n",
       "      <td>https://www.douban.com/group/topic/216585832/</td>\n",
       "      <td>闵行区吴中路朗诗寓转租</td>\n",
       "      <td>豆友226196802</td>\n",
       "      <td>https://www.douban.com/people/226196802/</td>\n",
       "      <td>03-23 17:52</td>\n",
       "    </tr>\n",
       "    <tr>\n",
       "      <th>2519</th>\n",
       "      <td>https://www.douban.com/group/topic/214808884/</td>\n",
       "      <td>转·近吴中路虹桥路中山西路一室一厅3/4/9/10号线超方便（非中介）</td>\n",
       "      <td>Karenina</td>\n",
       "      <td>https://www.douban.com/people/188209507/</td>\n",
       "      <td>03-23 15:22</td>\n",
       "    </tr>\n",
       "    <tr>\n",
       "      <th>4399</th>\n",
       "      <td>https://www.douban.com/group/topic/216197062/</td>\n",
       "      <td>转租  漕河泾开发区对面，中友嘉园小区，12号线虹梅路站，独卫2650</td>\n",
       "      <td>离开上海倒计时</td>\n",
       "      <td>https://www.douban.com/people/234553789/</td>\n",
       "      <td>03-23 13:56</td>\n",
       "    </tr>\n",
       "    <tr>\n",
       "      <th>3593</th>\n",
       "      <td>https://www.douban.com/group/topic/215736428/</td>\n",
       "      <td>个人转租～ 12号线虹梅路 9号线漕河泾开发区 地铁超近 不是中介</td>\n",
       "      <td>新的一条鱼</td>\n",
       "      <td>https://www.douban.com/people/193088226/</td>\n",
       "      <td>03-23 12:58</td>\n",
       "    </tr>\n",
       "    <tr>\n",
       "      <th>2203</th>\n",
       "      <td>https://www.douban.com/group/topic/214413368/</td>\n",
       "      <td>12号线虹梅路地铁站，精装独门独户一室户，干湿分离，燃气厨房，旁边都是漕河泾开发区上班白领，...</td>\n",
       "      <td>Lee李</td>\n",
       "      <td>https://www.douban.com/people/222057687/</td>\n",
       "      <td>03-22 19:27</td>\n",
       "    </tr>\n",
       "    <tr>\n",
       "      <th>5640</th>\n",
       "      <td>https://www.douban.com/group/topic/216612100/</td>\n",
       "      <td>（转租）上海漕河泾开发区华悦家园超明亮大南卧室 独立卫浴 包水网 无中介费 押一付一</td>\n",
       "      <td>Basileus🍎</td>\n",
       "      <td>https://www.douban.com/people/228665685/</td>\n",
       "      <td>03-22 16:13</td>\n",
       "    </tr>\n",
       "    <tr>\n",
       "      <th>5788</th>\n",
       "      <td>https://www.douban.com/group/topic/216644878/</td>\n",
       "      <td>急！！！转租 九亭中心 独门独户 近9号线漕河泾开发区科技绿洲</td>\n",
       "      <td>九磅十五便士</td>\n",
       "      <td>https://www.douban.com/people/155864659/</td>\n",
       "      <td>03-22 15:12</td>\n",
       "    </tr>\n",
       "  </tbody>\n",
       "</table>\n",
       "</div>"
      ],
      "text/plain": [
       "                                                 url  \\\n",
       "7430   https://www.douban.com/group/topic/216853903/   \n",
       "11960  https://www.douban.com/group/topic/217164114/   \n",
       "2831   https://www.douban.com/group/topic/215084766/   \n",
       "3948   https://www.douban.com/group/topic/215950506/   \n",
       "8622   https://www.douban.com/group/topic/216932044/   \n",
       "1953   https://www.douban.com/group/topic/213904892/   \n",
       "4592   https://www.douban.com/group/topic/216255954/   \n",
       "5535   https://www.douban.com/group/topic/216585832/   \n",
       "2519   https://www.douban.com/group/topic/214808884/   \n",
       "4399   https://www.douban.com/group/topic/216197062/   \n",
       "3593   https://www.douban.com/group/topic/215736428/   \n",
       "2203   https://www.douban.com/group/topic/214413368/   \n",
       "5640   https://www.douban.com/group/topic/216612100/   \n",
       "5788   https://www.douban.com/group/topic/216644878/   \n",
       "\n",
       "                                                   title       author  \\\n",
       "7430                              个人转租，闵行徐汇湘府花园吴中路姚虹路宋园路        Shieh   \n",
       "11960                     转租2600大主卧/徐汇区/9号桂林路/15号线吴中路地铁站         随风踏云   \n",
       "2831                    【个人转租】9号线漕河泾开发区站虹兴苑小区  朝南大卧室只租女生          于二花   \n",
       "3948                             【个人转租】3、4、10号线虹桥路，仅限女生！        豆油(1)   \n",
       "8622                         个人转租万源新城 9号线合川路、漕河泾开发区近字节跳动      Stella🌟   \n",
       "1953       9号线 桂林路地铁站 15号线 吴中路地铁站 田林 桂林苑 钦州北路888弄 次卧【转租】         江湖骗子   \n",
       "4592                          转租合川路地铁站附近近字节，漕河泾开发区可短租4个月      blowww~   \n",
       "5535                                         闵行区吴中路朗诗寓转租  豆友226196802   \n",
       "2519                 转·近吴中路虹桥路中山西路一室一厅3/4/9/10号线超方便（非中介）     Karenina   \n",
       "4399                 转租  漕河泾开发区对面，中友嘉园小区，12号线虹梅路站，独卫2650      离开上海倒计时   \n",
       "3593                   个人转租～ 12号线虹梅路 9号线漕河泾开发区 地铁超近 不是中介        新的一条鱼   \n",
       "2203   12号线虹梅路地铁站，精装独门独户一室户，干湿分离，燃气厨房，旁边都是漕河泾开发区上班白领，...         Lee李   \n",
       "5640          （转租）上海漕河泾开发区华悦家园超明亮大南卧室 独立卫浴 包水网 无中介费 押一付一    Basileus🍎   \n",
       "5788                     急！！！转租 九亭中心 独门独户 近9号线漕河泾开发区科技绿洲       九磅十五便士   \n",
       "\n",
       "                                     author_url last_response  \n",
       "7430   https://www.douban.com/people/169185158/   03-24 21:35  \n",
       "11960  https://www.douban.com/people/152826967/   03-24 20:34  \n",
       "2831   https://www.douban.com/people/140592316/   03-24 20:11  \n",
       "3948   https://www.douban.com/people/only-feel/   03-24 19:43  \n",
       "8622   https://www.douban.com/people/221649503/   03-24 09:30  \n",
       "1953   https://www.douban.com/people/146119171/   03-23 19:53  \n",
       "4592   https://www.douban.com/people/225348940/   03-23 19:49  \n",
       "5535   https://www.douban.com/people/226196802/   03-23 17:52  \n",
       "2519   https://www.douban.com/people/188209507/   03-23 15:22  \n",
       "4399   https://www.douban.com/people/234553789/   03-23 13:56  \n",
       "3593   https://www.douban.com/people/193088226/   03-23 12:58  \n",
       "2203   https://www.douban.com/people/222057687/   03-22 19:27  \n",
       "5640   https://www.douban.com/people/228665685/   03-22 16:13  \n",
       "5788   https://www.douban.com/people/155864659/   03-22 15:12  "
      ]
     },
     "execution_count": 50,
     "metadata": {},
     "output_type": "execute_result"
    }
   ],
   "source": [
    "df_res[flag_zhuanzu&flag_subway]"
   ]
  },
  {
   "cell_type": "code",
   "execution_count": 79,
   "metadata": {},
   "outputs": [],
   "source": [
    "browser.quit()"
   ]
  },
  {
   "cell_type": "code",
   "execution_count": null,
   "metadata": {},
   "outputs": [],
   "source": []
  }
 ],
 "metadata": {
  "kernelspec": {
   "display_name": "Python 3",
   "language": "python",
   "name": "python3"
  },
  "language_info": {
   "codemirror_mode": {
    "name": "ipython",
    "version": 3
   },
   "file_extension": ".py",
   "mimetype": "text/x-python",
   "name": "python",
   "nbconvert_exporter": "python",
   "pygments_lexer": "ipython3",
   "version": "3.7.3"
  }
 },
 "nbformat": 4,
 "nbformat_minor": 4
}
