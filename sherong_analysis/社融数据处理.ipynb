{
 "cells": [
  {
   "cell_type": "code",
   "execution_count": 4,
   "metadata": {},
   "outputs": [],
   "source": [
    "import pandas as pd\n",
    "\n",
    "import datetime"
   ]
  },
  {
   "cell_type": "code",
   "execution_count": 22,
   "metadata": {},
   "outputs": [],
   "source": [
    "df = pd.read_excel('汇总数据.xlsx')"
   ]
  },
  {
   "cell_type": "code",
   "execution_count": null,
   "metadata": {},
   "outputs": [],
   "source": []
  },
  {
   "cell_type": "code",
   "execution_count": 26,
   "metadata": {},
   "outputs": [
    {
     "data": {
      "text/plain": [
       "0      17129\n",
       "1      51740\n",
       "2      17192\n",
       "3      21355\n",
       "4      13929\n",
       "5      34693\n",
       "6      35853\n",
       "7      16928\n",
       "8      34681\n",
       "9      31866\n",
       "10     31027\n",
       "11     51838\n",
       "12      8737\n",
       "13     50535\n",
       "14     22013\n",
       "15     19937\n",
       "16      8680\n",
       "17     25142\n",
       "18     21956\n",
       "19     12872\n",
       "20     26243\n",
       "21     17124\n",
       "22     16710\n",
       "23     29602\n",
       "24      9665\n",
       "25     46791\n",
       "26    15898 \n",
       "27    15239 \n",
       "28     7420 \n",
       "29    21691 \n",
       "30    19391 \n",
       "31    12254 \n",
       "32    14877 \n",
       "33     9518 \n",
       "34    17761 \n",
       "35    15848 \n",
       "36    11894 \n",
       "37    30793 \n",
       "Name: 增量（亿）, dtype: object"
      ]
     },
     "execution_count": 26,
     "metadata": {},
     "output_type": "execute_result"
    }
   ],
   "source": [
    "df['增量（亿）']"
   ]
  },
  {
   "cell_type": "code",
   "execution_count": null,
   "metadata": {},
   "outputs": [],
   "source": []
  }
 ],
 "metadata": {
  "kernelspec": {
   "display_name": "Python 3",
   "language": "python",
   "name": "python3"
  },
  "language_info": {
   "codemirror_mode": {
    "name": "ipython",
    "version": 3
   },
   "file_extension": ".py",
   "mimetype": "text/x-python",
   "name": "python",
   "nbconvert_exporter": "python",
   "pygments_lexer": "ipython3",
   "version": "3.7.3"
  }
 },
 "nbformat": 4,
 "nbformat_minor": 4
}
